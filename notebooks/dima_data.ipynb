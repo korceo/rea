{
 "cells": [
  {
   "cell_type": "code",
   "execution_count": 1,
   "id": "3845fced",
   "metadata": {},
   "outputs": [],
   "source": [
    "import pandas as pd \n",
    "import numpy as np  \n",
    "import matplotlib.pyplot as plt"
   ]
  },
  {
   "cell_type": "code",
   "execution_count": 47,
   "id": "255424c6",
   "metadata": {},
   "outputs": [
    {
     "name": "stdout",
     "output_type": "stream",
     "text": [
      "['Unnamed: 0', 'ID  объявления', 'Количество комнат', 'Тип', 'Метро', 'Адрес', 'Площадь, м2', 'Дом', 'Парковка', 'Цена', 'Телефоны', 'Описание', 'Ремонт', 'Площадь комнат, м2', 'Балкон', 'Окна', 'Санузел', 'Можно с детьми/животными', 'Дополнительно', 'Название ЖК', 'Серия дома', 'Высота потолков, м', 'Лифт', 'Мусоропровод', 'Ссылка на объявление']\n"
     ]
    }
   ],
   "source": [
    "df4 = pd.read_csv('../data/_data.csv')\n",
    "print(df4.columns.to_list())"
   ]
  },
  {
   "cell_type": "code",
   "execution_count": 48,
   "id": "90534b6e",
   "metadata": {},
   "outputs": [
    {
     "data": {
      "application/vnd.microsoft.datawrangler.viewer.v0+json": {
       "columns": [
        {
         "name": "index",
         "rawType": "int64",
         "type": "integer"
        },
        {
         "name": "ID  объявления",
         "rawType": "int64",
         "type": "integer"
        },
        {
         "name": "Можно с детьми/животными",
         "rawType": "object",
         "type": "unknown"
        },
        {
         "name": "Название ЖК",
         "rawType": "object",
         "type": "unknown"
        },
        {
         "name": "Серия дома",
         "rawType": "object",
         "type": "unknown"
        },
        {
         "name": "Лифт",
         "rawType": "object",
         "type": "string"
        }
       ],
       "ref": "166f3ed6-47c9-4a2b-8586-21d4ea31d191",
       "rows": [
        [
         "0",
         "271271157",
         "Можно с детьми, Можно с животными",
         "Новый Арбат, 2010",
         null,
         "Пасс (4), Груз (1)"
        ],
        [
         "1",
         "271634126",
         "Можно с детьми",
         "Новый Арбат",
         null,
         "Пасс (1), Груз (1)"
        ],
        [
         "2",
         "271173086",
         "Можно с детьми",
         "Новый Арбат",
         null,
         "Пасс (1)"
        ],
        [
         "3",
         "272197456",
         "Можно с животными",
         null,
         null,
         "Пасс (1)"
        ],
        [
         "4",
         "273614615",
         null,
         "The Book",
         null,
         "Пасс (1), Груз (1)"
        ]
       ],
       "shape": {
        "columns": 5,
        "rows": 5
       }
      },
      "text/html": [
       "<div>\n",
       "<style scoped>\n",
       "    .dataframe tbody tr th:only-of-type {\n",
       "        vertical-align: middle;\n",
       "    }\n",
       "\n",
       "    .dataframe tbody tr th {\n",
       "        vertical-align: top;\n",
       "    }\n",
       "\n",
       "    .dataframe thead th {\n",
       "        text-align: right;\n",
       "    }\n",
       "</style>\n",
       "<table border=\"1\" class=\"dataframe\">\n",
       "  <thead>\n",
       "    <tr style=\"text-align: right;\">\n",
       "      <th></th>\n",
       "      <th>ID  объявления</th>\n",
       "      <th>Можно с детьми/животными</th>\n",
       "      <th>Название ЖК</th>\n",
       "      <th>Серия дома</th>\n",
       "      <th>Лифт</th>\n",
       "    </tr>\n",
       "  </thead>\n",
       "  <tbody>\n",
       "    <tr>\n",
       "      <th>0</th>\n",
       "      <td>271271157</td>\n",
       "      <td>Можно с детьми, Можно с животными</td>\n",
       "      <td>Новый Арбат, 2010</td>\n",
       "      <td>NaN</td>\n",
       "      <td>Пасс (4), Груз (1)</td>\n",
       "    </tr>\n",
       "    <tr>\n",
       "      <th>1</th>\n",
       "      <td>271634126</td>\n",
       "      <td>Можно с детьми</td>\n",
       "      <td>Новый Арбат</td>\n",
       "      <td>NaN</td>\n",
       "      <td>Пасс (1), Груз (1)</td>\n",
       "    </tr>\n",
       "    <tr>\n",
       "      <th>2</th>\n",
       "      <td>271173086</td>\n",
       "      <td>Можно с детьми</td>\n",
       "      <td>Новый Арбат</td>\n",
       "      <td>NaN</td>\n",
       "      <td>Пасс (1)</td>\n",
       "    </tr>\n",
       "    <tr>\n",
       "      <th>3</th>\n",
       "      <td>272197456</td>\n",
       "      <td>Можно с животными</td>\n",
       "      <td>NaN</td>\n",
       "      <td>NaN</td>\n",
       "      <td>Пасс (1)</td>\n",
       "    </tr>\n",
       "    <tr>\n",
       "      <th>4</th>\n",
       "      <td>273614615</td>\n",
       "      <td>NaN</td>\n",
       "      <td>The Book</td>\n",
       "      <td>NaN</td>\n",
       "      <td>Пасс (1), Груз (1)</td>\n",
       "    </tr>\n",
       "  </tbody>\n",
       "</table>\n",
       "</div>"
      ],
      "text/plain": [
       "   ID  объявления           Можно с детьми/животными        Название ЖК  \\\n",
       "0       271271157  Можно с детьми, Можно с животными  Новый Арбат, 2010   \n",
       "1       271634126                     Можно с детьми        Новый Арбат   \n",
       "2       271173086                     Можно с детьми        Новый Арбат   \n",
       "3       272197456                  Можно с животными                NaN   \n",
       "4       273614615                                NaN           The Book   \n",
       "\n",
       "  Серия дома                Лифт  \n",
       "0        NaN  Пасс (4), Груз (1)  \n",
       "1        NaN  Пасс (1), Груз (1)  \n",
       "2        NaN            Пасс (1)  \n",
       "3        NaN            Пасс (1)  \n",
       "4        NaN  Пасс (1), Груз (1)  "
      ]
     },
     "execution_count": 48,
     "metadata": {},
     "output_type": "execute_result"
    }
   ],
   "source": [
    "# Вытаскиваю нужны мне столбцы, удалнием не нужных\n",
    "col_to_drop = [\n",
    "    'Unnamed: 0',\n",
    "    'Количество комнат',\n",
    "    'Тип',\n",
    "    'Метро',\n",
    "    'Адрес',\n",
    "    'Площадь, м2',\n",
    "    'Дом',\n",
    "    'Парковка',\n",
    "    'Цена',\n",
    "    'Телефоны',\n",
    "    'Описание',\n",
    "    'Ремонт',\n",
    "    'Площадь комнат, м2',\n",
    "    'Балкон',\n",
    "    'Окна',\n",
    "    'Санузел',\n",
    "    # 'Можно с детьми/животными',\n",
    "    'Дополнительно',\n",
    "    # 'Название ЖК',\n",
    "    # 'Серия дома',\n",
    "    'Высота потолков, м',\n",
    "    # 'Лифт',\n",
    "    'Мусоропровод',\n",
    "    'Ссылка на объявление', \n",
    "]\n",
    "\n",
    "# Удаляем только существующие столбцы\n",
    "existing_cols = [col for col in col_to_drop if col in df4.columns]\n",
    "df4 = df4.drop(columns=existing_cols)\n",
    "\n",
    "\n",
    "df4.head()"
   ]
  },
  {
   "cell_type": "code",
   "execution_count": 49,
   "metadata": {},
   "outputs": [
    {
     "data": {
      "application/vnd.microsoft.datawrangler.viewer.v0+json": {
       "columns": [
        {
         "name": "index",
         "rawType": "int64",
         "type": "integer"
        },
        {
         "name": "ID",
         "rawType": "int64",
         "type": "integer"
        },
        {
         "name": "Можно с детьми/животными",
         "rawType": "object",
         "type": "unknown"
        },
        {
         "name": "Название ЖК",
         "rawType": "object",
         "type": "unknown"
        },
        {
         "name": "Серия дома",
         "rawType": "object",
         "type": "unknown"
        },
        {
         "name": "Лифт",
         "rawType": "object",
         "type": "string"
        }
       ],
       "ref": "8a0e196c-de43-4418-95ea-536f46802328",
       "rows": [
        [
         "0",
         "271271157",
         "Можно с детьми, Можно с животными",
         "Новый Арбат, 2010",
         null,
         "Пасс (4), Груз (1)"
        ],
        [
         "1",
         "271634126",
         "Можно с детьми",
         "Новый Арбат",
         null,
         "Пасс (1), Груз (1)"
        ],
        [
         "2",
         "271173086",
         "Можно с детьми",
         "Новый Арбат",
         null,
         "Пасс (1)"
        ],
        [
         "3",
         "272197456",
         "Можно с животными",
         null,
         null,
         "Пасс (1)"
        ],
        [
         "4",
         "273614615",
         null,
         "The Book",
         null,
         "Пасс (1), Груз (1)"
        ]
       ],
       "shape": {
        "columns": 5,
        "rows": 5
       }
      },
      "text/html": [
       "<div>\n",
       "<style scoped>\n",
       "    .dataframe tbody tr th:only-of-type {\n",
       "        vertical-align: middle;\n",
       "    }\n",
       "\n",
       "    .dataframe tbody tr th {\n",
       "        vertical-align: top;\n",
       "    }\n",
       "\n",
       "    .dataframe thead th {\n",
       "        text-align: right;\n",
       "    }\n",
       "</style>\n",
       "<table border=\"1\" class=\"dataframe\">\n",
       "  <thead>\n",
       "    <tr style=\"text-align: right;\">\n",
       "      <th></th>\n",
       "      <th>ID</th>\n",
       "      <th>Можно с детьми/животными</th>\n",
       "      <th>Название ЖК</th>\n",
       "      <th>Серия дома</th>\n",
       "      <th>Лифт</th>\n",
       "    </tr>\n",
       "  </thead>\n",
       "  <tbody>\n",
       "    <tr>\n",
       "      <th>0</th>\n",
       "      <td>271271157</td>\n",
       "      <td>Можно с детьми, Можно с животными</td>\n",
       "      <td>Новый Арбат, 2010</td>\n",
       "      <td>NaN</td>\n",
       "      <td>Пасс (4), Груз (1)</td>\n",
       "    </tr>\n",
       "    <tr>\n",
       "      <th>1</th>\n",
       "      <td>271634126</td>\n",
       "      <td>Можно с детьми</td>\n",
       "      <td>Новый Арбат</td>\n",
       "      <td>NaN</td>\n",
       "      <td>Пасс (1), Груз (1)</td>\n",
       "    </tr>\n",
       "    <tr>\n",
       "      <th>2</th>\n",
       "      <td>271173086</td>\n",
       "      <td>Можно с детьми</td>\n",
       "      <td>Новый Арбат</td>\n",
       "      <td>NaN</td>\n",
       "      <td>Пасс (1)</td>\n",
       "    </tr>\n",
       "    <tr>\n",
       "      <th>3</th>\n",
       "      <td>272197456</td>\n",
       "      <td>Можно с животными</td>\n",
       "      <td>NaN</td>\n",
       "      <td>NaN</td>\n",
       "      <td>Пасс (1)</td>\n",
       "    </tr>\n",
       "    <tr>\n",
       "      <th>4</th>\n",
       "      <td>273614615</td>\n",
       "      <td>NaN</td>\n",
       "      <td>The Book</td>\n",
       "      <td>NaN</td>\n",
       "      <td>Пасс (1), Груз (1)</td>\n",
       "    </tr>\n",
       "  </tbody>\n",
       "</table>\n",
       "</div>"
      ],
      "text/plain": [
       "          ID           Можно с детьми/животными        Название ЖК Серия дома  \\\n",
       "0  271271157  Можно с детьми, Можно с животными  Новый Арбат, 2010        NaN   \n",
       "1  271634126                     Можно с детьми        Новый Арбат        NaN   \n",
       "2  271173086                     Можно с детьми        Новый Арбат        NaN   \n",
       "3  272197456                  Можно с животными                NaN        NaN   \n",
       "4  273614615                                NaN           The Book        NaN   \n",
       "\n",
       "                 Лифт  \n",
       "0  Пасс (4), Груз (1)  \n",
       "1  Пасс (1), Груз (1)  \n",
       "2            Пасс (1)  \n",
       "3            Пасс (1)  \n",
       "4  Пасс (1), Груз (1)  "
      ]
     },
     "execution_count": 49,
     "metadata": {},
     "output_type": "execute_result"
    }
   ],
   "source": [
    "# замена имени столбца ID\n",
    "\n",
    "df4 = df4.rename(columns={'ID  объявления': 'ID'}) \n",
    "df4.head() "
   ]
  },
  {
   "cell_type": "code",
   "execution_count": 50,
   "metadata": {},
   "outputs": [
    {
     "data": {
      "application/vnd.microsoft.datawrangler.viewer.v0+json": {
       "columns": [
        {
         "name": "index",
         "rawType": "int64",
         "type": "integer"
        },
        {
         "name": "ID",
         "rawType": "int64",
         "type": "integer"
        },
        {
         "name": "Можно с детьми/животными",
         "rawType": "object",
         "type": "unknown"
        },
        {
         "name": "Название ЖК",
         "rawType": "object",
         "type": "unknown"
        },
        {
         "name": "Серия дома",
         "rawType": "object",
         "type": "unknown"
        },
        {
         "name": "Лифт",
         "rawType": "object",
         "type": "string"
        },
        {
         "name": "animal_and_children",
         "rawType": "int64",
         "type": "integer"
        }
       ],
       "ref": "2a2d0b61-fd48-4a1d-8e05-4c79edafd4f5",
       "rows": [
        [
         "0",
         "271271157",
         "Можно с детьми, Можно с животными",
         "Новый Арбат, 2010",
         null,
         "Пасс (4), Груз (1)",
         "3"
        ],
        [
         "1",
         "271634126",
         "Можно с детьми",
         "Новый Арбат",
         null,
         "Пасс (1), Груз (1)",
         "1"
        ],
        [
         "2",
         "271173086",
         "Можно с детьми",
         "Новый Арбат",
         null,
         "Пасс (1)",
         "1"
        ],
        [
         "3",
         "272197456",
         "Можно с животными",
         null,
         null,
         "Пасс (1)",
         "2"
        ],
        [
         "4",
         "273614615",
         null,
         "The Book",
         null,
         "Пасс (1), Груз (1)",
         "0"
        ]
       ],
       "shape": {
        "columns": 6,
        "rows": 5
       }
      },
      "text/html": [
       "<div>\n",
       "<style scoped>\n",
       "    .dataframe tbody tr th:only-of-type {\n",
       "        vertical-align: middle;\n",
       "    }\n",
       "\n",
       "    .dataframe tbody tr th {\n",
       "        vertical-align: top;\n",
       "    }\n",
       "\n",
       "    .dataframe thead th {\n",
       "        text-align: right;\n",
       "    }\n",
       "</style>\n",
       "<table border=\"1\" class=\"dataframe\">\n",
       "  <thead>\n",
       "    <tr style=\"text-align: right;\">\n",
       "      <th></th>\n",
       "      <th>ID</th>\n",
       "      <th>Можно с детьми/животными</th>\n",
       "      <th>Название ЖК</th>\n",
       "      <th>Серия дома</th>\n",
       "      <th>Лифт</th>\n",
       "      <th>animal_and_children</th>\n",
       "    </tr>\n",
       "  </thead>\n",
       "  <tbody>\n",
       "    <tr>\n",
       "      <th>0</th>\n",
       "      <td>271271157</td>\n",
       "      <td>Можно с детьми, Можно с животными</td>\n",
       "      <td>Новый Арбат, 2010</td>\n",
       "      <td>NaN</td>\n",
       "      <td>Пасс (4), Груз (1)</td>\n",
       "      <td>3</td>\n",
       "    </tr>\n",
       "    <tr>\n",
       "      <th>1</th>\n",
       "      <td>271634126</td>\n",
       "      <td>Можно с детьми</td>\n",
       "      <td>Новый Арбат</td>\n",
       "      <td>NaN</td>\n",
       "      <td>Пасс (1), Груз (1)</td>\n",
       "      <td>1</td>\n",
       "    </tr>\n",
       "    <tr>\n",
       "      <th>2</th>\n",
       "      <td>271173086</td>\n",
       "      <td>Можно с детьми</td>\n",
       "      <td>Новый Арбат</td>\n",
       "      <td>NaN</td>\n",
       "      <td>Пасс (1)</td>\n",
       "      <td>1</td>\n",
       "    </tr>\n",
       "    <tr>\n",
       "      <th>3</th>\n",
       "      <td>272197456</td>\n",
       "      <td>Можно с животными</td>\n",
       "      <td>NaN</td>\n",
       "      <td>NaN</td>\n",
       "      <td>Пасс (1)</td>\n",
       "      <td>2</td>\n",
       "    </tr>\n",
       "    <tr>\n",
       "      <th>4</th>\n",
       "      <td>273614615</td>\n",
       "      <td>NaN</td>\n",
       "      <td>The Book</td>\n",
       "      <td>NaN</td>\n",
       "      <td>Пасс (1), Груз (1)</td>\n",
       "      <td>0</td>\n",
       "    </tr>\n",
       "  </tbody>\n",
       "</table>\n",
       "</div>"
      ],
      "text/plain": [
       "          ID           Можно с детьми/животными        Название ЖК Серия дома  \\\n",
       "0  271271157  Можно с детьми, Можно с животными  Новый Арбат, 2010        NaN   \n",
       "1  271634126                     Можно с детьми        Новый Арбат        NaN   \n",
       "2  271173086                     Можно с детьми        Новый Арбат        NaN   \n",
       "3  272197456                  Можно с животными                NaN        NaN   \n",
       "4  273614615                                NaN           The Book        NaN   \n",
       "\n",
       "                 Лифт  animal_and_children  \n",
       "0  Пасс (4), Груз (1)                    3  \n",
       "1  Пасс (1), Груз (1)                    1  \n",
       "2            Пасс (1)                    1  \n",
       "3            Пасс (1)                    2  \n",
       "4  Пасс (1), Груз (1)                    0  "
      ]
     },
     "execution_count": 50,
     "metadata": {},
     "output_type": "execute_result"
    }
   ],
   "source": [
    "# Обработка столбца Можно с детьми/животными \n",
    "# 0 - отстствие значения, 1 - можно с детьми, 2 - можно с животными, 3 - можно с детьми/животными\n",
    "\n",
    "# Создаем словарь для замены значений\n",
    "mapping = {\n",
    "    np.nan: 0,\n",
    "    'Можно с детьми': 1,\n",
    "    'Можно с животными': 2, \n",
    "    'Можно с детьми, Можно с животными': 3\n",
    "}\n",
    "\n",
    "# Применяем замену и создаем новый столбец\n",
    "df4['animal_and_children'] = df4['Можно с детьми/животными'].map(mapping)\n",
    "\n",
    "df4.head()"
   ]
  },
  {
   "cell_type": "code",
   "execution_count": 51,
   "id": "eb59c3f3",
   "metadata": {},
   "outputs": [
    {
     "data": {
      "application/vnd.microsoft.datawrangler.viewer.v0+json": {
       "columns": [
        {
         "name": "index",
         "rawType": "int64",
         "type": "integer"
        },
        {
         "name": "ID",
         "rawType": "int64",
         "type": "integer"
        },
        {
         "name": "Можно с детьми/животными",
         "rawType": "object",
         "type": "unknown"
        },
        {
         "name": "Название ЖК",
         "rawType": "object",
         "type": "unknown"
        },
        {
         "name": "Серия дома",
         "rawType": "object",
         "type": "unknown"
        },
        {
         "name": "Лифт",
         "rawType": "object",
         "type": "string"
        },
        {
         "name": "animal_and_children",
         "rawType": "int64",
         "type": "integer"
        },
        {
         "name": "resedent_name",
         "rawType": "int64",
         "type": "integer"
        }
       ],
       "ref": "05f6c838-21fa-4be0-acf7-f9f5c05b3d0d",
       "rows": [
        [
         "0",
         "271271157",
         "Можно с детьми, Можно с животными",
         "Новый Арбат, 2010",
         null,
         "Пасс (4), Груз (1)",
         "3",
         "1"
        ],
        [
         "1",
         "271634126",
         "Можно с детьми",
         "Новый Арбат",
         null,
         "Пасс (1), Груз (1)",
         "1",
         "1"
        ],
        [
         "2",
         "271173086",
         "Можно с детьми",
         "Новый Арбат",
         null,
         "Пасс (1)",
         "1",
         "1"
        ],
        [
         "3",
         "272197456",
         "Можно с животными",
         null,
         null,
         "Пасс (1)",
         "2",
         "0"
        ],
        [
         "4",
         "273614615",
         null,
         "The Book",
         null,
         "Пасс (1), Груз (1)",
         "0",
         "1"
        ]
       ],
       "shape": {
        "columns": 7,
        "rows": 5
       }
      },
      "text/html": [
       "<div>\n",
       "<style scoped>\n",
       "    .dataframe tbody tr th:only-of-type {\n",
       "        vertical-align: middle;\n",
       "    }\n",
       "\n",
       "    .dataframe tbody tr th {\n",
       "        vertical-align: top;\n",
       "    }\n",
       "\n",
       "    .dataframe thead th {\n",
       "        text-align: right;\n",
       "    }\n",
       "</style>\n",
       "<table border=\"1\" class=\"dataframe\">\n",
       "  <thead>\n",
       "    <tr style=\"text-align: right;\">\n",
       "      <th></th>\n",
       "      <th>ID</th>\n",
       "      <th>Можно с детьми/животными</th>\n",
       "      <th>Название ЖК</th>\n",
       "      <th>Серия дома</th>\n",
       "      <th>Лифт</th>\n",
       "      <th>animal_and_children</th>\n",
       "      <th>resedent_name</th>\n",
       "    </tr>\n",
       "  </thead>\n",
       "  <tbody>\n",
       "    <tr>\n",
       "      <th>0</th>\n",
       "      <td>271271157</td>\n",
       "      <td>Можно с детьми, Можно с животными</td>\n",
       "      <td>Новый Арбат, 2010</td>\n",
       "      <td>NaN</td>\n",
       "      <td>Пасс (4), Груз (1)</td>\n",
       "      <td>3</td>\n",
       "      <td>1</td>\n",
       "    </tr>\n",
       "    <tr>\n",
       "      <th>1</th>\n",
       "      <td>271634126</td>\n",
       "      <td>Можно с детьми</td>\n",
       "      <td>Новый Арбат</td>\n",
       "      <td>NaN</td>\n",
       "      <td>Пасс (1), Груз (1)</td>\n",
       "      <td>1</td>\n",
       "      <td>1</td>\n",
       "    </tr>\n",
       "    <tr>\n",
       "      <th>2</th>\n",
       "      <td>271173086</td>\n",
       "      <td>Можно с детьми</td>\n",
       "      <td>Новый Арбат</td>\n",
       "      <td>NaN</td>\n",
       "      <td>Пасс (1)</td>\n",
       "      <td>1</td>\n",
       "      <td>1</td>\n",
       "    </tr>\n",
       "    <tr>\n",
       "      <th>3</th>\n",
       "      <td>272197456</td>\n",
       "      <td>Можно с животными</td>\n",
       "      <td>NaN</td>\n",
       "      <td>NaN</td>\n",
       "      <td>Пасс (1)</td>\n",
       "      <td>2</td>\n",
       "      <td>0</td>\n",
       "    </tr>\n",
       "    <tr>\n",
       "      <th>4</th>\n",
       "      <td>273614615</td>\n",
       "      <td>NaN</td>\n",
       "      <td>The Book</td>\n",
       "      <td>NaN</td>\n",
       "      <td>Пасс (1), Груз (1)</td>\n",
       "      <td>0</td>\n",
       "      <td>1</td>\n",
       "    </tr>\n",
       "  </tbody>\n",
       "</table>\n",
       "</div>"
      ],
      "text/plain": [
       "          ID           Можно с детьми/животными        Название ЖК Серия дома  \\\n",
       "0  271271157  Можно с детьми, Можно с животными  Новый Арбат, 2010        NaN   \n",
       "1  271634126                     Можно с детьми        Новый Арбат        NaN   \n",
       "2  271173086                     Можно с детьми        Новый Арбат        NaN   \n",
       "3  272197456                  Можно с животными                NaN        NaN   \n",
       "4  273614615                                NaN           The Book        NaN   \n",
       "\n",
       "                 Лифт  animal_and_children  resedent_name  \n",
       "0  Пасс (4), Груз (1)                    3              1  \n",
       "1  Пасс (1), Груз (1)                    1              1  \n",
       "2            Пасс (1)                    1              1  \n",
       "3            Пасс (1)                    2              0  \n",
       "4  Пасс (1), Груз (1)                    0              1  "
      ]
     },
     "execution_count": 51,
     "metadata": {},
     "output_type": "execute_result"
    }
   ],
   "source": [
    "# Обработка столбца Можно с детьми/животными\n",
    "\n",
    "# Создаем новый столбец: 1 если есть название, 0 если NaN\n",
    "df4['resedent_name'] = np.where(df4['Название ЖК'].isna(), 0, 1)\n",
    "\n",
    "df4.head()"
   ]
  },
  {
   "cell_type": "code",
   "execution_count": 52,
   "metadata": {},
   "outputs": [
    {
     "data": {
      "application/vnd.microsoft.datawrangler.viewer.v0+json": {
       "columns": [
        {
         "name": "index",
         "rawType": "int64",
         "type": "integer"
        },
        {
         "name": "ID",
         "rawType": "int64",
         "type": "integer"
        },
        {
         "name": "Можно с детьми/животными",
         "rawType": "object",
         "type": "unknown"
        },
        {
         "name": "Название ЖК",
         "rawType": "object",
         "type": "unknown"
        },
        {
         "name": "Серия дома",
         "rawType": "object",
         "type": "unknown"
        },
        {
         "name": "Лифт",
         "rawType": "object",
         "type": "string"
        },
        {
         "name": "animal_and_children",
         "rawType": "int64",
         "type": "integer"
        },
        {
         "name": "resedent_name",
         "rawType": "int64",
         "type": "integer"
        },
        {
         "name": "series_build",
         "rawType": "int64",
         "type": "integer"
        }
       ],
       "ref": "9584a887-0e4e-44ab-a597-443b898b5ddf",
       "rows": [
        [
         "0",
         "271271157",
         "Можно с детьми, Можно с животными",
         "Новый Арбат, 2010",
         null,
         "Пасс (4), Груз (1)",
         "3",
         "1",
         "0"
        ],
        [
         "1",
         "271634126",
         "Можно с детьми",
         "Новый Арбат",
         null,
         "Пасс (1), Груз (1)",
         "1",
         "1",
         "0"
        ],
        [
         "2",
         "271173086",
         "Можно с детьми",
         "Новый Арбат",
         null,
         "Пасс (1)",
         "1",
         "1",
         "0"
        ],
        [
         "3",
         "272197456",
         "Можно с животными",
         null,
         null,
         "Пасс (1)",
         "2",
         "0",
         "0"
        ],
        [
         "4",
         "273614615",
         null,
         "The Book",
         null,
         "Пасс (1), Груз (1)",
         "0",
         "1",
         "0"
        ]
       ],
       "shape": {
        "columns": 8,
        "rows": 5
       }
      },
      "text/html": [
       "<div>\n",
       "<style scoped>\n",
       "    .dataframe tbody tr th:only-of-type {\n",
       "        vertical-align: middle;\n",
       "    }\n",
       "\n",
       "    .dataframe tbody tr th {\n",
       "        vertical-align: top;\n",
       "    }\n",
       "\n",
       "    .dataframe thead th {\n",
       "        text-align: right;\n",
       "    }\n",
       "</style>\n",
       "<table border=\"1\" class=\"dataframe\">\n",
       "  <thead>\n",
       "    <tr style=\"text-align: right;\">\n",
       "      <th></th>\n",
       "      <th>ID</th>\n",
       "      <th>Можно с детьми/животными</th>\n",
       "      <th>Название ЖК</th>\n",
       "      <th>Серия дома</th>\n",
       "      <th>Лифт</th>\n",
       "      <th>animal_and_children</th>\n",
       "      <th>resedent_name</th>\n",
       "      <th>series_build</th>\n",
       "    </tr>\n",
       "  </thead>\n",
       "  <tbody>\n",
       "    <tr>\n",
       "      <th>0</th>\n",
       "      <td>271271157</td>\n",
       "      <td>Можно с детьми, Можно с животными</td>\n",
       "      <td>Новый Арбат, 2010</td>\n",
       "      <td>NaN</td>\n",
       "      <td>Пасс (4), Груз (1)</td>\n",
       "      <td>3</td>\n",
       "      <td>1</td>\n",
       "      <td>0</td>\n",
       "    </tr>\n",
       "    <tr>\n",
       "      <th>1</th>\n",
       "      <td>271634126</td>\n",
       "      <td>Можно с детьми</td>\n",
       "      <td>Новый Арбат</td>\n",
       "      <td>NaN</td>\n",
       "      <td>Пасс (1), Груз (1)</td>\n",
       "      <td>1</td>\n",
       "      <td>1</td>\n",
       "      <td>0</td>\n",
       "    </tr>\n",
       "    <tr>\n",
       "      <th>2</th>\n",
       "      <td>271173086</td>\n",
       "      <td>Можно с детьми</td>\n",
       "      <td>Новый Арбат</td>\n",
       "      <td>NaN</td>\n",
       "      <td>Пасс (1)</td>\n",
       "      <td>1</td>\n",
       "      <td>1</td>\n",
       "      <td>0</td>\n",
       "    </tr>\n",
       "    <tr>\n",
       "      <th>3</th>\n",
       "      <td>272197456</td>\n",
       "      <td>Можно с животными</td>\n",
       "      <td>NaN</td>\n",
       "      <td>NaN</td>\n",
       "      <td>Пасс (1)</td>\n",
       "      <td>2</td>\n",
       "      <td>0</td>\n",
       "      <td>0</td>\n",
       "    </tr>\n",
       "    <tr>\n",
       "      <th>4</th>\n",
       "      <td>273614615</td>\n",
       "      <td>NaN</td>\n",
       "      <td>The Book</td>\n",
       "      <td>NaN</td>\n",
       "      <td>Пасс (1), Груз (1)</td>\n",
       "      <td>0</td>\n",
       "      <td>1</td>\n",
       "      <td>0</td>\n",
       "    </tr>\n",
       "  </tbody>\n",
       "</table>\n",
       "</div>"
      ],
      "text/plain": [
       "          ID           Можно с детьми/животными        Название ЖК Серия дома  \\\n",
       "0  271271157  Можно с детьми, Можно с животными  Новый Арбат, 2010        NaN   \n",
       "1  271634126                     Можно с детьми        Новый Арбат        NaN   \n",
       "2  271173086                     Можно с детьми        Новый Арбат        NaN   \n",
       "3  272197456                  Можно с животными                NaN        NaN   \n",
       "4  273614615                                NaN           The Book        NaN   \n",
       "\n",
       "                 Лифт  animal_and_children  resedent_name  series_build  \n",
       "0  Пасс (4), Груз (1)                    3              1             0  \n",
       "1  Пасс (1), Груз (1)                    1              1             0  \n",
       "2            Пасс (1)                    1              1             0  \n",
       "3            Пасс (1)                    2              0             0  \n",
       "4  Пасс (1), Груз (1)                    0              1             0  "
      ]
     },
     "execution_count": 52,
     "metadata": {},
     "output_type": "execute_result"
    }
   ],
   "source": [
    "# Обработка столбца Серии дома\n",
    "# Создаем новый столбец: 1 если есть название, 0 если NaN\n",
    "df4['series_build'] = np.where(df4['Серия дома'].isna(), 0, 1)\n",
    "\n",
    "df4.head()"
   ]
  },
  {
   "cell_type": "code",
   "execution_count": 53,
   "metadata": {},
   "outputs": [
    {
     "data": {
      "application/vnd.microsoft.datawrangler.viewer.v0+json": {
       "columns": [
        {
         "name": "index",
         "rawType": "int64",
         "type": "integer"
        },
        {
         "name": "ID",
         "rawType": "int64",
         "type": "integer"
        },
        {
         "name": "Можно с детьми/животными",
         "rawType": "object",
         "type": "unknown"
        },
        {
         "name": "Название ЖК",
         "rawType": "object",
         "type": "unknown"
        },
        {
         "name": "Серия дома",
         "rawType": "object",
         "type": "unknown"
        },
        {
         "name": "Лифт",
         "rawType": "object",
         "type": "string"
        },
        {
         "name": "animal_and_children",
         "rawType": "int64",
         "type": "integer"
        },
        {
         "name": "resedent_name",
         "rawType": "int64",
         "type": "integer"
        },
        {
         "name": "series_build",
         "rawType": "int64",
         "type": "integer"
        },
        {
         "name": "lift",
         "rawType": "int64",
         "type": "integer"
        }
       ],
       "ref": "7591c048-5202-4e9a-914e-2ec0f77c6773",
       "rows": [
        [
         "0",
         "271271157",
         "Можно с детьми, Можно с животными",
         "Новый Арбат, 2010",
         null,
         "Пасс (4), Груз (1)",
         "3",
         "1",
         "0",
         "5"
        ],
        [
         "1",
         "271634126",
         "Можно с детьми",
         "Новый Арбат",
         null,
         "Пасс (1), Груз (1)",
         "1",
         "1",
         "0",
         "2"
        ],
        [
         "2",
         "271173086",
         "Можно с детьми",
         "Новый Арбат",
         null,
         "Пасс (1)",
         "1",
         "1",
         "0",
         "1"
        ],
        [
         "3",
         "272197456",
         "Можно с животными",
         null,
         null,
         "Пасс (1)",
         "2",
         "0",
         "0",
         "1"
        ],
        [
         "4",
         "273614615",
         null,
         "The Book",
         null,
         "Пасс (1), Груз (1)",
         "0",
         "1",
         "0",
         "2"
        ]
       ],
       "shape": {
        "columns": 9,
        "rows": 5
       }
      },
      "text/html": [
       "<div>\n",
       "<style scoped>\n",
       "    .dataframe tbody tr th:only-of-type {\n",
       "        vertical-align: middle;\n",
       "    }\n",
       "\n",
       "    .dataframe tbody tr th {\n",
       "        vertical-align: top;\n",
       "    }\n",
       "\n",
       "    .dataframe thead th {\n",
       "        text-align: right;\n",
       "    }\n",
       "</style>\n",
       "<table border=\"1\" class=\"dataframe\">\n",
       "  <thead>\n",
       "    <tr style=\"text-align: right;\">\n",
       "      <th></th>\n",
       "      <th>ID</th>\n",
       "      <th>Можно с детьми/животными</th>\n",
       "      <th>Название ЖК</th>\n",
       "      <th>Серия дома</th>\n",
       "      <th>Лифт</th>\n",
       "      <th>animal_and_children</th>\n",
       "      <th>resedent_name</th>\n",
       "      <th>series_build</th>\n",
       "      <th>lift</th>\n",
       "    </tr>\n",
       "  </thead>\n",
       "  <tbody>\n",
       "    <tr>\n",
       "      <th>0</th>\n",
       "      <td>271271157</td>\n",
       "      <td>Можно с детьми, Можно с животными</td>\n",
       "      <td>Новый Арбат, 2010</td>\n",
       "      <td>NaN</td>\n",
       "      <td>Пасс (4), Груз (1)</td>\n",
       "      <td>3</td>\n",
       "      <td>1</td>\n",
       "      <td>0</td>\n",
       "      <td>5</td>\n",
       "    </tr>\n",
       "    <tr>\n",
       "      <th>1</th>\n",
       "      <td>271634126</td>\n",
       "      <td>Можно с детьми</td>\n",
       "      <td>Новый Арбат</td>\n",
       "      <td>NaN</td>\n",
       "      <td>Пасс (1), Груз (1)</td>\n",
       "      <td>1</td>\n",
       "      <td>1</td>\n",
       "      <td>0</td>\n",
       "      <td>2</td>\n",
       "    </tr>\n",
       "    <tr>\n",
       "      <th>2</th>\n",
       "      <td>271173086</td>\n",
       "      <td>Можно с детьми</td>\n",
       "      <td>Новый Арбат</td>\n",
       "      <td>NaN</td>\n",
       "      <td>Пасс (1)</td>\n",
       "      <td>1</td>\n",
       "      <td>1</td>\n",
       "      <td>0</td>\n",
       "      <td>1</td>\n",
       "    </tr>\n",
       "    <tr>\n",
       "      <th>3</th>\n",
       "      <td>272197456</td>\n",
       "      <td>Можно с животными</td>\n",
       "      <td>NaN</td>\n",
       "      <td>NaN</td>\n",
       "      <td>Пасс (1)</td>\n",
       "      <td>2</td>\n",
       "      <td>0</td>\n",
       "      <td>0</td>\n",
       "      <td>1</td>\n",
       "    </tr>\n",
       "    <tr>\n",
       "      <th>4</th>\n",
       "      <td>273614615</td>\n",
       "      <td>NaN</td>\n",
       "      <td>The Book</td>\n",
       "      <td>NaN</td>\n",
       "      <td>Пасс (1), Груз (1)</td>\n",
       "      <td>0</td>\n",
       "      <td>1</td>\n",
       "      <td>0</td>\n",
       "      <td>2</td>\n",
       "    </tr>\n",
       "  </tbody>\n",
       "</table>\n",
       "</div>"
      ],
      "text/plain": [
       "          ID           Можно с детьми/животными        Название ЖК Серия дома  \\\n",
       "0  271271157  Можно с детьми, Можно с животными  Новый Арбат, 2010        NaN   \n",
       "1  271634126                     Можно с детьми        Новый Арбат        NaN   \n",
       "2  271173086                     Можно с детьми        Новый Арбат        NaN   \n",
       "3  272197456                  Можно с животными                NaN        NaN   \n",
       "4  273614615                                NaN           The Book        NaN   \n",
       "\n",
       "                 Лифт  animal_and_children  resedent_name  series_build  lift  \n",
       "0  Пасс (4), Груз (1)                    3              1             0     5  \n",
       "1  Пасс (1), Груз (1)                    1              1             0     2  \n",
       "2            Пасс (1)                    1              1             0     1  \n",
       "3            Пасс (1)                    2              0             0     1  \n",
       "4  Пасс (1), Груз (1)                    0              1             0     2  "
      ]
     },
     "execution_count": 53,
     "metadata": {},
     "output_type": "execute_result"
    }
   ],
   "source": [
    "# Ячейка Lift извлекает основную ифнормаю - кол-во лифтов в доме\n",
    "# 0 - отсутствие знения\n",
    "\n",
    "# Функция для извлечения и сложения чисел из скобок\n",
    "def sum_lifts(text):\n",
    "    if pd.isna(text):  # Если NaN\n",
    "        return 0\n",
    "    # Ищем все числа в скобках и суммируем их\n",
    "    import re\n",
    "    numbers = re.findall(r'\\((\\d+)\\)', str(text))\n",
    "    return sum(map(int, numbers)) if numbers else 0\n",
    "\n",
    "# Создаем новый столбец\n",
    "df4['lift'] = df4['Лифт'].apply(sum_lifts)\n",
    "\n",
    "df4.head()"
   ]
  },
  {
   "cell_type": "code",
   "execution_count": 54,
   "metadata": {},
   "outputs": [],
   "source": [
    "# Затираю старые колонки\n",
    "\n",
    "drop_past = [\n",
    "    'Можно с детьми/животными',\n",
    "    'Название ЖК',\n",
    "    'Серия дома',\n",
    "    'Лифт'\n",
    "]\n",
    "\n",
    "df4 = df4.drop(columns=drop_past)\n",
    "df4.to_csv('koshelev_data.csv', index = False)"
   ]
  },
  {
   "cell_type": "code",
   "execution_count": null,
   "id": "84e49058",
   "metadata": {},
   "outputs": [],
   "source": []
  },
  {
   "cell_type": "code",
   "execution_count": null,
   "id": "a09e6683",
   "metadata": {},
   "outputs": [],
   "source": []
  },
  {
   "cell_type": "code",
   "execution_count": null,
   "id": "3656f4b7",
   "metadata": {},
   "outputs": [],
   "source": []
  }
 ],
 "metadata": {
  "kernelspec": {
   "display_name": "base_project_env",
   "language": "python",
   "name": "python3"
  },
  "language_info": {
   "codemirror_mode": {
    "name": "ipython",
    "version": 3
   },
   "file_extension": ".py",
   "mimetype": "text/x-python",
   "name": "python",
   "nbconvert_exporter": "python",
   "pygments_lexer": "ipython3",
   "version": "3.12.10"
  }
 },
 "nbformat": 4,
 "nbformat_minor": 5
}
